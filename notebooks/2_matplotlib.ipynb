{
 "cells": [
  {
   "cell_type": "markdown",
   "metadata": {},
   "source": [
    "# Introduction to Matplotlib\n",
    "\n",
    "Matplotlib is a library for 2D graphs. Especially, `pyplot` is a MATLAB-like framework.\n",
    "\n",
    "Matplotlib functions relies on `np.array` datatype. You will need both libraries."
   ]
  },
  {
   "cell_type": "code",
   "metadata": {},
   "source": [
    "import matplotlib.pyplot as plt\n",
    "import numpy as np"
   ],
   "outputs": [],
   "execution_count": null
  },
  {
   "cell_type": "markdown",
   "metadata": {},
   "source": [
    "`pyplot`'s `plot` function will let you create a figure.\n",
    "\n",
    "The `show()` method will display all open figures (you can create multiple figures). With the notebooks, the figures will be displayed after exiting a cell."
   ]
  },
  {
   "cell_type": "code",
   "metadata": {},
   "source": [
    "x = np.linspace(0, 5)\n",
    "y = np.sin(x)\n",
    "plt.plot(x, y)\n",
    "plt.show()"
   ],
   "outputs": [],
   "execution_count": null
  },
  {
   "cell_type": "markdown",
   "metadata": {},
   "source": "You can customise the style of your plot."
  },
  {
   "cell_type": "code",
   "metadata": {},
   "source": [
    "plt.plot(x, y, 'r*-')\n",
    "plt.show()"
   ],
   "outputs": [],
   "execution_count": null
  },
  {
   "cell_type": "markdown",
   "metadata": {},
   "source": [
    "You have a complete [documentation on markers](https://matplotlib.org/stable/api/markers_api.html) and a [documentation on colors](https://matplotlib.org/stable/api/colors_api.html).\n",
    "\n",
    "You can display multiple plots on a single figure. You can either call the `plot` function several times."
   ]
  },
  {
   "cell_type": "code",
   "metadata": {},
   "source": [
    "plt.plot(x, np.sin(x))\n",
    "plt.plot(x, np.cos(x))\n",
    "plt.show()"
   ],
   "outputs": [],
   "execution_count": null
  },
  {
   "cell_type": "markdown",
   "metadata": {},
   "source": "Or with the same function call."
  },
  {
   "cell_type": "code",
   "metadata": {},
   "source": [
    "plt.plot(x, np.sin(x), x, np.cos(x))\n",
    "plt.show()"
   ],
   "outputs": [],
   "execution_count": null
  },
  {
   "cell_type": "markdown",
   "metadata": {},
   "source": "Labels and legend can also be added. There is an exhaustive documentation about [text in Mathplotlib](https://matplotlib.org/stable/users/explain/text/text_intro.html)."
  },
  {
   "cell_type": "code",
   "metadata": {},
   "source": [
    "plt.plot(x, x, label='linear')\n",
    "plt.plot(x, x**2, label='quadratic')\n",
    "plt.plot(x, x**3, label='cubic')\n",
    "\n",
    "plt.xlabel('x label')\n",
    "plt.ylabel('y label')\n",
    "\n",
    "plt.title(\"Simple Figure\")\n",
    "\n",
    "plt.legend()\n",
    "\n",
    "plt.show()"
   ],
   "outputs": [],
   "execution_count": null
  },
  {
   "cell_type": "markdown",
   "metadata": {},
   "source": [
    "The function `plt.plot()` makes it easy to draw figures. Matplotlib displays a **figure** which containes at least one **Axes** (note the uppercase as this concept is the central part of a figure and not the plural of *axis*).\n",
    "\n",
    "The previous figures did have multiple plots in a single figure and a single Axes.\n",
    "\n",
    "If we want to separate them, we have to call `plt.subplot()`."
   ]
  },
  {
   "cell_type": "code",
   "metadata": {},
   "source": [
    "plt.figure()\n",
    "plt.subplot(2, 1, 1)\n",
    "plt.plot(x, np.sin(x))\n",
    "plt.subplot(2, 1, 2)\n",
    "plt.plot(x, np.cos(x))\n",
    "\n",
    "plt.show()"
   ],
   "outputs": [],
   "execution_count": null
  },
  {
   "cell_type": "markdown",
   "metadata": {},
   "source": [
    "For, among others, a better readability, Matplotlib provides an object syntaxe.\n",
    "\n",
    "## Using objects\n",
    "\n",
    "First of all, we are goint to work on the objects returned by the `plt.subplots()` function. This function returns a tuple of two objects, the figures and the Axes.\n",
    "\n",
    "On the following, we have a figure with only one Axes."
   ]
  },
  {
   "cell_type": "code",
   "metadata": {},
   "source": [
    "fig, ax = plt.subplots(1, 1)\n",
    "\n",
    "ax.plot(x, x, label='linear')\n",
    "ax.plot(x, x**2, label='quadratic')\n",
    "ax.plot(x, x**3, label='cubic')\n",
    "\n",
    "ax.set_xlabel('x label')\n",
    "ax.set_ylabel('y label')\n",
    "\n",
    "ax.set_title(\"Simple Figure\")\n",
    "\n",
    "ax.legend()\n",
    "plt.show()"
   ],
   "outputs": [],
   "execution_count": null
  },
  {
   "cell_type": "markdown",
   "metadata": {},
   "source": "We can also have more than one *Axes* in a single figure."
  },
  {
   "cell_type": "code",
   "metadata": {},
   "source": [
    "fig, ax_lst = plt.subplots(1, 3)\n",
    "\n",
    "ax_lst[0].plot(x, x, 'r-', label='linear')\n",
    "ax_lst[1].plot(x, x**2, 'g-', label='quadratic')\n",
    "ax_lst[2].plot(x, x**3, label='cubic')\n",
    "\n",
    "fig.suptitle(\"Simple Figure\")\n",
    "ax_lst[0].legend()\n",
    "ax_lst[1].legend()\n",
    "ax_lst[2].legend()\n",
    "plt.show()"
   ],
   "outputs": [],
   "execution_count": null
  },
  {
   "cell_type": "markdown",
   "metadata": {},
   "source": "By default, Matplotlib will adapt the output for the best readability. We can of course force the display with the limit of the y axis."
  },
  {
   "cell_type": "code",
   "metadata": {},
   "source": [
    "fig, ax_lst = plt.subplots(1, 3)\n",
    "\n",
    "ax_lst[0].plot(x, x, 'r-', label='linear')\n",
    "ax_lst[1].plot(x, x**2, 'g-', label='quadratic')\n",
    "ax_lst[2].plot(x, x**3, label='cubic')\n",
    "\n",
    "fig.suptitle(\"Simple Figure\")\n",
    "#fig.legend()\n",
    "\n",
    "for ax in ax_lst:\n",
    "    ax.legend()\n",
    "    ax.set_ylim(0, 50)"
   ],
   "outputs": [],
   "execution_count": null
  },
  {
   "cell_type": "markdown",
   "metadata": {},
   "source": "So, we can create a *helper* function to deal with the display."
  },
  {
   "cell_type": "code",
   "metadata": {},
   "source": [
    "def my_plotter(ax, data1, data2, params: dict):\n",
    "    ax.plot(data1, data2, **params)\n",
    "    ax.legend()\n",
    "    ax.set_ylim(0, 50)\n",
    "    \n",
    "fig, ax_lst = plt.subplots(1, 3)\n",
    "\n",
    "x2 = x**2\n",
    "x3 = x**3\n",
    "\n",
    "my_plotter(ax_lst[0], x, x, {'color': 'red', 'label': 'linear'})\n",
    "my_plotter(ax_lst[1], x, x2, {'color': 'green', 'label': 'quadratic'})\n",
    "my_plotter(ax_lst[2], x, x3, {'label': 'cubic'})\n",
    "\n",
    "fig.suptitle(\"Simple Plot\")"
   ],
   "outputs": [],
   "execution_count": null
  },
  {
   "cell_type": "markdown",
   "metadata": {},
   "source": "## Different kind of plots"
  },
  {
   "cell_type": "markdown",
   "metadata": {},
   "source": "Example of a display"
  },
  {
   "cell_type": "code",
   "metadata": {},
   "source": [
    "fig = plt.figure()\n",
    "ax = plt.axes()\n",
    "\n",
    "plt.plot(x, np.sin(x - 0), color='blue', linestyle='solid', label='bleu')\n",
    "plt.plot(x, np.sin(x - 1), color='g', linestyle='dashed', label='vert')\n",
    "plt.plot(x, np.sin(x - 2), color='0.75', linestyle='dashdot', label='gris')\n",
    "plt.plot(x, np.sin(x - 3), color='#FF0000', linestyle='dotted', label='rouge')\n",
    "\n",
    "plt.axis([-1, 11, -1.5, 1.5])\n",
    "\n",
    "plt.title(\"Un exemple de graphe\")\n",
    "\n",
    "plt.legend(loc='lower right')\n",
    "\n",
    "ax = ax.set(xlabel='x', ylabel='sin(x)')"
   ],
   "outputs": [],
   "execution_count": null
  },
  {
   "cell_type": "markdown",
   "metadata": {},
   "source": "Example of the `scatter` function."
  },
  {
   "cell_type": "code",
   "metadata": {},
   "source": [
    "np.random.seed(19680801)\n",
    "\n",
    "data = {'a': np.arange(50),\n",
    "        'c': np.random.randint(0, 50, 50),\n",
    "        'd': np.random.randn(50)}\n",
    "data['b'] = data['a'] + 10 * np.random.randn(50)\n",
    "data['d'] = np.abs(data['d']) * 100\n",
    "\n",
    "fig, ax = plt.subplots(figsize=(5, 2.7), layout='constrained')\n",
    "\n",
    "ax.scatter('a', 'b', s='d', data=data)\n",
    "\n",
    "ax.set_xlabel('entry a')\n",
    "ax.set_ylabel('entry b')"
   ],
   "outputs": [],
   "execution_count": null
  },
  {
   "cell_type": "markdown",
   "metadata": {},
   "source": "An example of statistical (sort of…) display with error bars."
  },
  {
   "cell_type": "code",
   "metadata": {},
   "source": [
    "x = np.linspace(0, 10, 50)\n",
    "y_err = np.random.randn(50) * 0.4\n",
    "y = np.sin(x) + y_err\n",
    "\n",
    "plt.errorbar(x, y, yerr=abs(y_err), fmt='.k')\n",
    "#plt.plot(x, np.sin(x))\n",
    "plt.show()"
   ],
   "outputs": [],
   "execution_count": null
  },
  {
   "cell_type": "code",
   "metadata": {},
   "source": [],
   "outputs": [],
   "execution_count": null
  }
 ],
 "metadata": {
  "kernelspec": {
   "display_name": "Python 3 (ipykernel)",
   "language": "python",
   "name": "python3"
  },
  "language_info": {
   "codemirror_mode": {
    "name": "ipython",
    "version": 3
   },
   "file_extension": ".py",
   "mimetype": "text/x-python",
   "name": "python",
   "nbconvert_exporter": "python",
   "pygments_lexer": "ipython3",
   "version": "3.12.7"
  }
 },
 "nbformat": 4,
 "nbformat_minor": 4
}
